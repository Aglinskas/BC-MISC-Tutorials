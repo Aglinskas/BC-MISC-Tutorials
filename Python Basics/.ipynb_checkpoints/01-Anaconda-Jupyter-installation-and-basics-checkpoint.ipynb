{
 "cells": [
  {
   "cell_type": "markdown",
   "id": "17acee1b-5cdd-40df-9525-8c9f39dbf7a9",
   "metadata": {},
   "source": [
    "Easiest way to get started with python is to install Anaconda integrated development environment (IDE), which also installs [jupyter notebooks](https://docs.jupyter.org/en/latest/) and scientific python packages like [numpy](https://numpy.org/doc/stable/), [pandas](https://pandas.pydata.org/getting_started.html) [matplotlib](https://matplotlib.org/stable/gallery/), [scipy](https://scipy.github.io/devdocs/index.html), [scikit-learn](https://scikit-learn.org/stable/auto_examples/index.html) and others."
   ]
  },
  {
   "cell_type": "markdown",
   "id": "1175fef4-b71d-4c71-a775-ea8408213182",
   "metadata": {},
   "source": [
    "Get Anaconda installer here [https://www.anaconda.com/](https://www.anaconda.com/)"
   ]
  },
  {
   "cell_type": "markdown",
   "id": "26ef17da-feae-4778-920e-fb0737a266c6",
   "metadata": {},
   "source": [
    "Once installed, **open Anaconda Navigator**.\n",
    "\n",
    " - \"Home\" tab shows apps you have installed. You should have Jupyter lab (awesome way to write python code) and Spyder (more MATLAB-y coding enviroment) installed. \n",
    "\n",
    "\n",
    "![](ims/conda01-annot.jpg)"
   ]
  },
  {
   "cell_type": "markdown",
   "id": "ebae22d9-9de7-4ecb-9dd9-c274105ca6cd",
   "metadata": {},
   "source": [
    " - click JupyterLab to open notebook interface\n",
    " - click the red highlighted icon to open your first notebook\n",
    " \n",
    " ![](ims/jupyterlab-main-01-annot.jpg)\n",
    " \n",
    " "
   ]
  },
  {
   "cell_type": "markdown",
   "id": "a907a95b-f86e-4d45-93ce-a967dae52354",
   "metadata": {},
   "source": [
    "In Jupyter you write code in cells, which can contain one or more lines of code (or text!)"
   ]
  },
  {
   "cell_type": "code",
   "execution_count": 1,
   "id": "5f535e32-b419-4cc4-b42a-468923121146",
   "metadata": {},
   "outputs": [
    {
     "name": "stdout",
     "output_type": "stream",
     "text": [
      "hello world - I am a code cell!\n"
     ]
    }
   ],
   "source": [
    "print('hello world - I am a code cell!')"
   ]
  },
  {
   "cell_type": "markdown",
   "id": "c0211983-ba87-454f-99f6-02fb76afda6a",
   "metadata": {},
   "source": [
    " - Once you've writted a line of code, click **SHIFT+ENTER** to execute a cell of code and move to the next (or CTRL+ENTER to execute a cell and stay on the same cell)"
   ]
  },
  {
   "cell_type": "code",
   "execution_count": 2,
   "id": "c68f3c0a-77da-429c-8256-582c8b82ec1e",
   "metadata": {},
   "outputs": [
    {
     "name": "stdout",
     "output_type": "stream",
     "text": [
      "Line 1\n",
      "Line 2\n",
      "Line 3\n"
     ]
    }
   ],
   "source": [
    "print('Line 1')\n",
    "print('Line 2')\n",
    "print('Line 3')"
   ]
  },
  {
   "cell_type": "code",
   "execution_count": 7,
   "id": "1446f0f8-375a-4af2-920f-09428086861a",
   "metadata": {},
   "outputs": [
    {
     "data": {
      "text/plain": [
       "11"
      ]
     },
     "execution_count": 7,
     "metadata": {},
     "output_type": "execute_result"
    }
   ],
   "source": [
    "a = 5\n",
    "b = 6\n",
    "a+b # By default the last line in a code cell gets printed without needing to use a print statement - useful!"
   ]
  },
  {
   "cell_type": "code",
   "execution_count": 5,
   "id": "1c7f7d2b-3fa2-4b40-ae7d-c8ac4efd0f7c",
   "metadata": {},
   "outputs": [
    {
     "data": {
      "text/plain": [
       "11"
      ]
     },
     "execution_count": 5,
     "metadata": {},
     "output_type": "execute_result"
    }
   ],
   "source": [
    "a+b # You can easily check outputs and operations"
   ]
  },
  {
   "cell_type": "code",
   "execution_count": 9,
   "id": "618f728f-f651-4162-bb75-a0e487407527",
   "metadata": {},
   "outputs": [],
   "source": [
    "a+b; # You can suppress output by using a semicolon \";\""
   ]
  },
  {
   "cell_type": "markdown",
   "id": "b1d38322-373e-4b11-8916-94037fe23592",
   "metadata": {},
   "source": [
    "### Shortcuts"
   ]
  },
  {
   "cell_type": "markdown",
   "id": "fd6d1104-f762-4f6a-ae5f-a3f3eb23245c",
   "metadata": {},
   "source": [
    "You can add/delete cells by clicking on a left outside of the cell and using:\n",
    " - \"B\" to add a cell below the current cell\n",
    " - \"A\" to add a cell above the current cell\n",
    " - \"X\" to delete a cell\n",
    " - \"Z\" to undo last operation\n",
    " - \"M\" turn cell into a markdown (text) cell\n",
    " - \"Y\" turn cell into a code cell (default new cell)\n",
    " \n",
    " \n",
    " \n",
    " \n",
    " \n",
    " \n",
    " \n",
    " \n",
    "![](ims/cell01-annot.jpg)"
   ]
  },
  {
   "cell_type": "code",
   "execution_count": null,
   "id": "da5223da-070f-4b77-87ff-ed78a603b8a6",
   "metadata": {},
   "outputs": [],
   "source": []
  },
  {
   "cell_type": "code",
   "execution_count": null,
   "id": "9213bb59-f103-4410-bc8c-0baeb76f7426",
   "metadata": {},
   "outputs": [],
   "source": []
  },
  {
   "cell_type": "markdown",
   "id": "2b7c6cb5-8531-44ae-b906-e4a64a9218ed",
   "metadata": {},
   "source": [
    "Lastly, \n",
    "to run a notebook as you would run a script (in a fresh enviroment), select kernel > restart and run all cells"
   ]
  },
  {
   "cell_type": "code",
   "execution_count": null,
   "id": "c7973887-02f2-4af5-8cc0-cb1e0e489612",
   "metadata": {},
   "outputs": [],
   "source": []
  },
  {
   "cell_type": "code",
   "execution_count": null,
   "id": "6e64990a-262f-4f47-bcd6-e18dbd7b06cd",
   "metadata": {},
   "outputs": [],
   "source": []
  }
 ],
 "metadata": {
  "kernelspec": {
   "display_name": "Python 3 (ipykernel)",
   "language": "python",
   "name": "python3"
  },
  "language_info": {
   "codemirror_mode": {
    "name": "ipython",
    "version": 3
   },
   "file_extension": ".py",
   "mimetype": "text/x-python",
   "name": "python",
   "nbconvert_exporter": "python",
   "pygments_lexer": "ipython3",
   "version": "3.9.7"
  }
 },
 "nbformat": 4,
 "nbformat_minor": 5
}
