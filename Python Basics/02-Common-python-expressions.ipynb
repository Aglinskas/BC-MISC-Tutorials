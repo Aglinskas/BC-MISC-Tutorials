{
 "cells": [
  {
   "cell_type": "markdown",
   "id": "51d313aa-5374-42da-a80a-4c7739f21d52",
   "metadata": {},
   "source": [
    "## Types of variables"
   ]
  },
  {
   "cell_type": "code",
   "execution_count": 1,
   "id": "35a7f32a-a4e3-4885-acfa-9f84cc61e0d5",
   "metadata": {},
   "outputs": [],
   "source": [
    "a = 3 # Integer\n",
    "b = 3.14 # Float\n",
    "c = 'hello' # String\n",
    "d = (3,4) # Tuple, collection of values that cannot be modified\n",
    "e = [3,4] # List, collection of values that can be modified\n",
    "f = {'name' : 'John','surname' : 'Dough','age' : 16} # Dictionary, can store all kinds of key:value pairs"
   ]
  },
  {
   "cell_type": "markdown",
   "id": "3748a5dd-056e-466e-b076-732089be13c3",
   "metadata": {},
   "source": [
    "## Indexing"
   ]
  },
  {
   "cell_type": "code",
   "execution_count": 2,
   "id": "3ce6e4e9-c3cc-4be1-b5c3-32718d3d3a83",
   "metadata": {},
   "outputs": [],
   "source": [
    "myList = (1,2,3,4,5,6)\n",
    "# Indexing starts at 0, and uses brackets []"
   ]
  },
  {
   "cell_type": "code",
   "execution_count": 3,
   "id": "26574913-c5b0-4d18-b91a-faf9dc8e2656",
   "metadata": {},
   "outputs": [
    {
     "data": {
      "text/plain": [
       "1"
      ]
     },
     "execution_count": 3,
     "metadata": {},
     "output_type": "execute_result"
    }
   ],
   "source": [
    "myList[0] # ~First~ Zeroeth element"
   ]
  },
  {
   "cell_type": "code",
   "execution_count": 4,
   "id": "4b6197ed-bb0a-4af2-b51b-eb61dce81e2f",
   "metadata": {},
   "outputs": [
    {
     "data": {
      "text/plain": [
       "6"
      ]
     },
     "execution_count": 4,
     "metadata": {},
     "output_type": "execute_result"
    }
   ],
   "source": [
    "myList[-1] # Last element"
   ]
  },
  {
   "cell_type": "code",
   "execution_count": 5,
   "id": "24e73c52-212e-4484-b3f1-22c4ce870f94",
   "metadata": {},
   "outputs": [
    {
     "data": {
      "text/plain": [
       "(1, 2)"
      ]
     },
     "execution_count": 5,
     "metadata": {},
     "output_type": "execute_result"
    }
   ],
   "source": [
    "# Index ranges are inclusive of the first index, and exclusive of the last index\n",
    "myList[0:2] # Items are 0th and 1st places"
   ]
  },
  {
   "cell_type": "code",
   "execution_count": 6,
   "id": "4827785b-a8d6-4525-bfa7-cac3e53055ae",
   "metadata": {},
   "outputs": [
    {
     "data": {
      "text/plain": [
       "(1, 3, 5)"
      ]
     },
     "execution_count": 6,
     "metadata": {},
     "output_type": "execute_result"
    }
   ],
   "source": [
    "myList[0:-1:2] # Return every second item. Syntax: [<from>:<to>:<step>]\n",
    "myList[::2] # Gives the same thing (sane defaults)"
   ]
  },
  {
   "cell_type": "code",
   "execution_count": 7,
   "id": "52f1a0d0-579d-4066-bd51-cf6d44e21785",
   "metadata": {},
   "outputs": [
    {
     "data": {
      "text/plain": [
       "(6, 5, 4, 3, 2, 1)"
      ]
     },
     "execution_count": 7,
     "metadata": {},
     "output_type": "execute_result"
    }
   ],
   "source": [
    "# Can use this to invert a list \n",
    "myList[::-1] # From beggining to end in steps of -1"
   ]
  },
  {
   "cell_type": "markdown",
   "id": "20f403ce-c473-4bc6-bb40-9639984e4d50",
   "metadata": {
    "tags": []
   },
   "source": [
    "### Strings"
   ]
  },
  {
   "cell_type": "code",
   "execution_count": 8,
   "id": "fafb4e78-3305-4753-ab4b-ba1731101159",
   "metadata": {},
   "outputs": [],
   "source": [
    "# Strings have a lot of methods attached to them, making it easy to manipulate strings\n",
    "myStr = 'Hello, I am a STRING'"
   ]
  },
  {
   "cell_type": "code",
   "execution_count": 9,
   "id": "fd42a197-11b6-4fb3-8682-ac1ee64a395d",
   "metadata": {},
   "outputs": [
    {
     "data": {
      "text/plain": [
       "'HELLO, I AM A STRING'"
      ]
     },
     "execution_count": 9,
     "metadata": {},
     "output_type": "execute_result"
    }
   ],
   "source": [
    "myStr.upper() # make uppercase"
   ]
  },
  {
   "cell_type": "code",
   "execution_count": 10,
   "id": "7ff82778-f966-4659-a633-34ddc5b9bf22",
   "metadata": {},
   "outputs": [
    {
     "data": {
      "text/plain": [
       "'hello, i am a string'"
      ]
     },
     "execution_count": 10,
     "metadata": {},
     "output_type": "execute_result"
    }
   ],
   "source": [
    "myStr.lower() # make lowercase"
   ]
  },
  {
   "cell_type": "code",
   "execution_count": 11,
   "id": "674d9f97-89b8-454c-931c-bc03b7c0f76b",
   "metadata": {},
   "outputs": [
    {
     "data": {
      "text/plain": [
       "'Hello, I Am A String'"
      ]
     },
     "execution_count": 11,
     "metadata": {},
     "output_type": "execute_result"
    }
   ],
   "source": [
    "myStr.title() # make title-case (capitalize every word)"
   ]
  },
  {
   "cell_type": "code",
   "execution_count": 12,
   "id": "14039e68-ec26-4799-b539-a97da722b801",
   "metadata": {},
   "outputs": [
    {
     "data": {
      "text/plain": [
       "'Hello, I am a sentence'"
      ]
     },
     "execution_count": 12,
     "metadata": {},
     "output_type": "execute_result"
    }
   ],
   "source": [
    "myStr.replace('STRING','sentence') # Find and replace"
   ]
  },
  {
   "cell_type": "code",
   "execution_count": 13,
   "id": "f44ce0ec-7b13-432e-8ff1-13f45ff4eec8",
   "metadata": {},
   "outputs": [
    {
     "data": {
      "text/plain": [
       "['Hello,', 'I', 'am', 'a', 'STRING']"
      ]
     },
     "execution_count": 13,
     "metadata": {},
     "output_type": "execute_result"
    }
   ],
   "source": [
    "myStr.split(' ') # Split string at a specified delimiter (in this case, at a space)"
   ]
  },
  {
   "cell_type": "code",
   "execution_count": 14,
   "id": "f68fef1f-6fd0-4590-809e-15b134d10bff",
   "metadata": {},
   "outputs": [
    {
     "data": {
      "text/plain": [
       "'Hello, I am a STRING'"
      ]
     },
     "execution_count": 14,
     "metadata": {},
     "output_type": "execute_result"
    }
   ],
   "source": [
    "' '.join(['Hello,', 'I', 'am', 'a', 'STRING']) # Reverse of split"
   ]
  },
  {
   "cell_type": "code",
   "execution_count": 15,
   "id": "8c411743-f069-469f-a9e1-720cec4f3799",
   "metadata": {},
   "outputs": [
    {
     "data": {
      "text/plain": [
       "'John-Dough'"
      ]
     },
     "execution_count": 15,
     "metadata": {},
     "output_type": "execute_result"
    }
   ],
   "source": [
    "'-'.join(['John','Dough']) # Another example of join"
   ]
  },
  {
   "cell_type": "code",
   "execution_count": 16,
   "id": "6105ef33-54da-458c-b5b2-f1345e8a52df",
   "metadata": {},
   "outputs": [
    {
     "data": {
      "text/plain": [
       "2"
      ]
     },
     "execution_count": 16,
     "metadata": {},
     "output_type": "execute_result"
    }
   ],
   "source": [
    "myStr.count('a') # Count how many 'a' in a string"
   ]
  },
  {
   "cell_type": "code",
   "execution_count": 17,
   "id": "e82c3a4b-9d17-4e66-9925-215b5d908ffc",
   "metadata": {},
   "outputs": [
    {
     "data": {
      "text/plain": [
       "True"
      ]
     },
     "execution_count": 17,
     "metadata": {},
     "output_type": "execute_result"
    }
   ],
   "source": [
    "'12345'.isdigit() # Check if string consists of \"only\" numbers, see also isalpha(), isalnum() etc."
   ]
  },
  {
   "cell_type": "markdown",
   "id": "98436a1f-af0e-4524-8c61-de373121b1f7",
   "metadata": {},
   "source": [
    "    "
   ]
  },
  {
   "cell_type": "markdown",
   "id": "e6ef4e98-6b64-4caf-9279-eaa174f57eaa",
   "metadata": {},
   "source": [
    "For the whole list of string methods, type a string followed by a dot, like 'aa'. then press TAB\n",
    "\n",
    "![](ims/stringMethods.jpg)"
   ]
  },
  {
   "cell_type": "markdown",
   "id": "dde3b49f-50b3-4d57-94e7-499de0bcde8d",
   "metadata": {},
   "source": [
    "### Loops"
   ]
  },
  {
   "cell_type": "code",
   "execution_count": 18,
   "id": "81e5de47-556b-4475-b23d-45246706d640",
   "metadata": {},
   "outputs": [
    {
     "name": "stdout",
     "output_type": "stream",
     "text": [
      "1\n",
      "2\n",
      "3\n",
      "4\n",
      "5\n"
     ]
    }
   ],
   "source": [
    "# In python, indentation matters, for loops have to follow this structure\n",
    "\n",
    "myVar = [1,2,3,4,5]\n",
    "for i in myVar: # Don't forget the colon\n",
    "    print(i) # Stuff inside the for loop has to be indented"
   ]
  },
  {
   "cell_type": "code",
   "execution_count": 19,
   "id": "988327fc-3738-401d-8c9e-a3e31d801787",
   "metadata": {},
   "outputs": [],
   "source": [
    "# You can loop over a lot of different variables, python figures out the iterable element\n",
    "# These would all work\n",
    "myVar = (1,2,3,4,5) # tuples\n",
    "myVar = [1,2,3,4,5] # lists\n",
    "myVar = ['cat',4,'dog',3.14] # mixed variables\n",
    "myVar = 'this is a sentence' # Will loop over letters\n",
    "myVar = 'this is a sentence'.split(' ') # Will loop over words\n",
    "myVar = range(0,1000000) # Loops over numbers from 0 to 1,000,000 (including 0 and NOT including 1,000,000)"
   ]
  },
  {
   "cell_type": "code",
   "execution_count": 20,
   "id": "15282e14-c245-4cec-8634-f649724431b3",
   "metadata": {},
   "outputs": [],
   "source": [
    "# While loop\n",
    "i = 0 # initiate counter\n",
    "while i < 10: \n",
    "    i+=1 # Shorthand for i=i+1"
   ]
  },
  {
   "cell_type": "markdown",
   "id": "0d68677c-db93-41a0-9648-9636f34a50e8",
   "metadata": {},
   "source": [
    "### Functions"
   ]
  },
  {
   "cell_type": "code",
   "execution_count": 21,
   "id": "4ce64c9d-e942-4a88-b06b-fa386832eb49",
   "metadata": {},
   "outputs": [],
   "source": [
    "# Function definition syntax\n",
    "\n",
    "# Function with no inputs\n",
    "def myFunc():\n",
    "    'this function just return hello' # Optional doc string\n",
    "    print('hello')"
   ]
  },
  {
   "cell_type": "code",
   "execution_count": 22,
   "id": "2fef4fe0-33e8-4987-ae52-de62ead64ded",
   "metadata": {},
   "outputs": [
    {
     "name": "stdout",
     "output_type": "stream",
     "text": [
      "hello\n"
     ]
    }
   ],
   "source": [
    "myFunc()"
   ]
  },
  {
   "cell_type": "code",
   "execution_count": 23,
   "id": "8267393f-c590-41e0-9d57-cf05cd69d3bc",
   "metadata": {},
   "outputs": [
    {
     "data": {
      "text/plain": [
       "\u001b[0;31mSignature:\u001b[0m \u001b[0mmyFunc\u001b[0m\u001b[0;34m(\u001b[0m\u001b[0;34m)\u001b[0m\u001b[0;34m\u001b[0m\u001b[0;34m\u001b[0m\u001b[0m\n",
       "\u001b[0;31mDocstring:\u001b[0m this function just return hello\n",
       "\u001b[0;31mFile:\u001b[0m      /var/folders/vq/3kk0fzh5509g0jkz5rt3zzsh0000gn/T/ipykernel_5024/2920099413.py\n",
       "\u001b[0;31mType:\u001b[0m      function\n"
      ]
     },
     "metadata": {},
     "output_type": "display_data"
    }
   ],
   "source": [
    "# For any function (built-in or otherwise) you can use '?' to print out the docs\n",
    "myFunc?"
   ]
  },
  {
   "cell_type": "code",
   "execution_count": 24,
   "id": "228057b2-2058-4fed-beb7-335d406d7a54",
   "metadata": {},
   "outputs": [
    {
     "data": {
      "text/plain": [
       "\u001b[0;31mSignature:\u001b[0m \u001b[0mmyFunc\u001b[0m\u001b[0;34m(\u001b[0m\u001b[0;34m)\u001b[0m\u001b[0;34m\u001b[0m\u001b[0;34m\u001b[0m\u001b[0m\n",
       "\u001b[0;31mSource:\u001b[0m   \n",
       "\u001b[0;32mdef\u001b[0m \u001b[0mmyFunc\u001b[0m\u001b[0;34m(\u001b[0m\u001b[0;34m)\u001b[0m\u001b[0;34m:\u001b[0m\u001b[0;34m\u001b[0m\n",
       "\u001b[0;34m\u001b[0m    \u001b[0;34m'this function just return hello'\u001b[0m \u001b[0;31m# Optional doc string\u001b[0m\u001b[0;34m\u001b[0m\n",
       "\u001b[0;34m\u001b[0m    \u001b[0mprint\u001b[0m\u001b[0;34m(\u001b[0m\u001b[0;34m'hello'\u001b[0m\u001b[0;34m)\u001b[0m\u001b[0;34m\u001b[0m\u001b[0;34m\u001b[0m\u001b[0m\n",
       "\u001b[0;31mFile:\u001b[0m      /var/folders/vq/3kk0fzh5509g0jkz5rt3zzsh0000gn/T/ipykernel_5024/2920099413.py\n",
       "\u001b[0;31mType:\u001b[0m      function\n"
      ]
     },
     "metadata": {},
     "output_type": "display_data"
    }
   ],
   "source": [
    "# you can use '??' to print out the source-code of the function =\n",
    "myFunc??"
   ]
  },
  {
   "cell_type": "code",
   "execution_count": 25,
   "id": "49c6f68e-2f66-446a-b32b-997014396df8",
   "metadata": {},
   "outputs": [],
   "source": [
    "# if you want a function that returns a value, use \"return\"\n",
    "def myFunc2(a,b):\n",
    "    'This function raises a number to the power' # Optional doc string\n",
    "    result = a**b # to raise a to the power of b\n",
    "    return result"
   ]
  },
  {
   "cell_type": "code",
   "execution_count": 26,
   "id": "a7d463b1-980f-44ad-ae00-c70bb1fe3a49",
   "metadata": {},
   "outputs": [
    {
     "data": {
      "text/plain": [
       "64"
      ]
     },
     "execution_count": 26,
     "metadata": {},
     "output_type": "execute_result"
    }
   ],
   "source": [
    "myExp = myFunc2(2,6)\n",
    "myExp"
   ]
  },
  {
   "cell_type": "code",
   "execution_count": 27,
   "id": "7fd50ca4-1bf3-4ff0-bdb1-ce58b6610504",
   "metadata": {},
   "outputs": [
    {
     "data": {
      "text/plain": [
       "True"
      ]
     },
     "execution_count": 27,
     "metadata": {},
     "output_type": "execute_result"
    }
   ],
   "source": [
    "# LOGICAL OPERATIONS\n",
    "a = True # Booleans start with capital letters\n",
    "b = False\n",
    "\n",
    "# Logical \"AND\", can use & or \"and\" - they're the same\n",
    "a & b\n",
    "a and b\n",
    "#both return False\n",
    "\n",
    "\n",
    "# Logical \"OR\", can use | or \"or\" - they're the same\n",
    "a | b\n",
    "a or b\n",
    "#both return True \n",
    "\n",
    "# Negation: use \"not\"\n",
    "a and not b # Returns true"
   ]
  },
  {
   "cell_type": "code",
   "execution_count": null,
   "id": "72ed8422-8236-44a3-8da0-22adf344a695",
   "metadata": {},
   "outputs": [],
   "source": []
  }
 ],
 "metadata": {
  "kernelspec": {
   "display_name": "Python 3 (ipykernel)",
   "language": "python",
   "name": "python3"
  },
  "language_info": {
   "codemirror_mode": {
    "name": "ipython",
    "version": 3
   },
   "file_extension": ".py",
   "mimetype": "text/x-python",
   "name": "python",
   "nbconvert_exporter": "python",
   "pygments_lexer": "ipython3",
   "version": "3.9.7"
  }
 },
 "nbformat": 4,
 "nbformat_minor": 5
}
